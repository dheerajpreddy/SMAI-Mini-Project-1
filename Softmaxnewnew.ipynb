{
 "cells": [
  {
   "cell_type": "code",
   "execution_count": 1,
   "metadata": {},
   "outputs": [],
   "source": [
    "import os\n",
    "from PIL import Image\n",
    "import numpy as np"
   ]
  },
  {
   "cell_type": "code",
   "execution_count": 2,
   "metadata": {},
   "outputs": [],
   "source": [
    "def read_image(im) :\n",
    "\n",
    "    # Opening image as greyscale\n",
    "    img = Image.open(im).convert('L')\n",
    "    img.load()\n",
    "\n",
    "    # Converting image into a numpy array\n",
    "    data = np.asarray(img, dtype=\"int32\")\n",
    "\n",
    "    return data"
   ]
  },
  {
   "cell_type": "code",
   "execution_count": 3,
   "metadata": {},
   "outputs": [],
   "source": [
    "trainFile = 'train_sample2.txt'\n",
    "testFile = 'train_sample.txt'"
   ]
  },
  {
   "cell_type": "code",
   "execution_count": 14,
   "metadata": {},
   "outputs": [],
   "source": [
    "metadata = {}\n",
    "metadata['class2id'] = {}\n",
    "metadata['im2label'] = []\n",
    "metadata['img_dir'] = [] \n",
    "metadata['label2id'] = {}\n",
    "ids = 0\n",
    "\n",
    "# labels = {}\n",
    "# images_labels = []\n",
    "# images = []\n",
    "# labelinv = {}\n",
    "\n",
    "with open(trainFile, 'r') as f:\n",
    "    for line in f:\n",
    "        filePath, label = line.split(' ')\n",
    "        if label not in metadata['class2id']:\n",
    "            metadata['class2id'][label] = ids\n",
    "            metadata['label2id'] = label\n",
    "            ids = ids + 1\n",
    "        metadata['im2label'].append(metadata['class2id'][label])\n",
    "        metadata['img_dir'].append(filePath)"
   ]
  },
  {
   "cell_type": "code",
   "execution_count": 48,
   "metadata": {},
   "outputs": [],
   "source": [
    "# def PCA_decompose(images, num_comp):\n",
    "    \n",
    "#     data = None\n",
    "#     MSE = np.zeros(60)\n",
    "#     for x in images:\n",
    "#         img = read_image(x)\n",
    "#         img = img.flatten()\n",
    "#         if data is None:\n",
    "#             data = img\n",
    "#         else:\n",
    "#             data = np.vstack([data, img])\n",
    "\n",
    "#     # Find mean of the images\n",
    "#     mean = np.mean(data.T, axis=1)\n",
    "    \n",
    "#     # Center the matrix by subtracting the mean\n",
    "#     centered = data - mean\n",
    "    \n",
    "#     # Find covariance matrix\n",
    "#     cov = np.matmul(centered, centered.T)\n",
    "\n",
    "#     # Retrieving the eigenvalues and eigenvectors\n",
    "#     values, vectors = np.linalg.eig(cov)\n",
    "#     idx = values.argsort()[::-1]\n",
    "#     values = np.real(values[idx])\n",
    "#     vectors = np.real(vectors[:,idx])\n",
    "    \n",
    "#     # Finding projection matrix\n",
    "#     projection = np.dot(vectors.T, centered)\n",
    "    \n",
    "#     eVecs = np.matmul(centered.T, vectors)\n",
    "#     eVecsNorm = np.sqrt(np.sum(eVecs*eVecs, axis=0))\n",
    "#     actualEVecs = np.real(eVecs/eVecsNorm)\n",
    "\n",
    "#     return actualEVecs, np.real(centered), np.real(mean)\n",
    "\n",
    "def pca(images):\n",
    "    A = np.zeros((len(images),128*128*3),dtype='float64')\n",
    "    for idx, img in enumerate(images):\n",
    "        im = Image.open(img).resize((128, 128), Image.ANTIALIAS)\n",
    "        im = np.array(im).reshape(-1)\n",
    "        A[idx,:] = im/255.0\n",
    "    A_mean = np.mean(A, axis=0)\n",
    "    A = A - A_mean\n",
    "    \n",
    "    covM = np.matmul(A, A.T)\n",
    "    # can also use eigh as it is faster and returns the eigenvalues in sorted order (it works only for symmetric matrices, A x A^T is symmetric)\n",
    "    eVals, eVecs = np.linalg.eig(covM)\n",
    "    idx = eVals.argsort()[::-1]\n",
    "    eVals = np.real(eVals[idx])\n",
    "    eVecs = np.real(eVecs[:,idx])\n",
    "    \n",
    "    eVecs = np.matmul(A.T, eVecs)\n",
    "    eVecsNorm = np.sqrt(np.sum(eVecs*eVecs, axis=0))\n",
    "    actualEVecs = eVecs/eVecsNorm\n",
    "    \n",
    "    return (actualEVecs, A, A_mean)"
   ]
  },
  {
   "cell_type": "code",
   "execution_count": 49,
   "metadata": {},
   "outputs": [],
   "source": [
    "def find_probability(x):\n",
    "    shiftx = x - np.max(x)\n",
    "    exps = np.exp(shiftx)\n",
    "    return exps / np.sum(exps, axis = 0)"
   ]
  },
  {
   "cell_type": "code",
   "execution_count": 50,
   "metadata": {},
   "outputs": [],
   "source": [
    "vec, ce, mean = pca(metadata['img_dir'])\n",
    "imgs = np.matmul(vec[:,0:32].T, ce.T)"
   ]
  },
  {
   "cell_type": "code",
   "execution_count": 51,
   "metadata": {},
   "outputs": [],
   "source": [
    "y = np.array(metadata['im2label'])"
   ]
  },
  {
   "cell_type": "code",
   "execution_count": 54,
   "metadata": {},
   "outputs": [],
   "source": [
    "W = np.random.rand(len(metadata['class2id']), 32)\n",
    "\n",
    "eta = 0.005\n",
    "numIterations = 60000\n",
    "\n",
    "for i in range(0, numIterations):\n",
    "    wtx_labels = find_probability(np.matmul(W, imgs))\n",
    "    wtx_labels[y[:], np.arange(len(metadata['img_dir']))] += -1.0\n",
    "    DSoftMax = (np.matmul(wtx_labels, imgs.T) / float(len(metadata['img_dir']))) + 0.0001 * W\n",
    "    W = W - eta*(DSoftMax)\n",
    "\n",
    "\n",
    "# labels = metadata['class2id']\n",
    "# images_labels = metadata['im2label']\n",
    "# images = metadata['img_dir']\n",
    "# labelinv = metadata['label2id']\n",
    "\n",
    "# W = np.random.rand(len(labels), 32)\n",
    "\n",
    "# eta = 0.005\n",
    "# numIterations = 60000\n",
    "\n",
    "# for i in range(0, numIterations):\n",
    "#     wtx_labels = find_probability(np.matmul(W, imgs))\n",
    "#     wtx_labels[y[:], np.arange(len(images))] += -1.0\n",
    "#     DSoftMax = (np.matmul(wtx_labels, imgs.T) / float(len(images))) + 0.0001 * W\n",
    "#     W = W - eta*(DSoftMax)"
   ]
  },
  {
   "cell_type": "code",
   "execution_count": 57,
   "metadata": {
    "scrolled": true
   },
   "outputs": [
    {
     "ename": "ValueError",
     "evalue": "shapes (32,49152) and (196608,) not aligned: 49152 (dim 1) != 196608 (dim 0)",
     "output_type": "error",
     "traceback": [
      "\u001b[0;31m---------------------------------------------------------------------------\u001b[0m",
      "\u001b[0;31mValueError\u001b[0m                                Traceback (most recent call last)",
      "\u001b[0;32m<ipython-input-57-20aaf31a4188>\u001b[0m in \u001b[0;36m<module>\u001b[0;34m()\u001b[0m\n\u001b[1;32m     10\u001b[0m             \u001b[0mim\u001b[0m \u001b[0;34m=\u001b[0m \u001b[0mnp\u001b[0m\u001b[0;34m.\u001b[0m\u001b[0marray\u001b[0m\u001b[0;34m(\u001b[0m\u001b[0mim\u001b[0m\u001b[0;34m)\u001b[0m\u001b[0;34m.\u001b[0m\u001b[0mreshape\u001b[0m\u001b[0;34m(\u001b[0m\u001b[0;34m-\u001b[0m\u001b[0;36m1\u001b[0m\u001b[0;34m)\u001b[0m\u001b[0;34m\u001b[0m\u001b[0m\n\u001b[1;32m     11\u001b[0m \u001b[0;31m#             im = im - mean\u001b[0m\u001b[0;34m\u001b[0m\u001b[0;34m\u001b[0m\u001b[0m\n\u001b[0;32m---> 12\u001b[0;31m             \u001b[0mim\u001b[0m \u001b[0;34m=\u001b[0m \u001b[0mnp\u001b[0m\u001b[0;34m.\u001b[0m\u001b[0mmatmul\u001b[0m\u001b[0;34m(\u001b[0m\u001b[0mvec\u001b[0m\u001b[0;34m[\u001b[0m\u001b[0;34m:\u001b[0m\u001b[0;34m,\u001b[0m\u001b[0;36m0\u001b[0m\u001b[0;34m:\u001b[0m\u001b[0;36m32\u001b[0m\u001b[0;34m]\u001b[0m\u001b[0;34m.\u001b[0m\u001b[0mT\u001b[0m\u001b[0;34m,\u001b[0m \u001b[0mim\u001b[0m\u001b[0;34m)\u001b[0m\u001b[0;34m.\u001b[0m\u001b[0mT\u001b[0m\u001b[0;34m\u001b[0m\u001b[0m\n\u001b[0m\u001b[1;32m     13\u001b[0m             \u001b[0mprint\u001b[0m\u001b[0;34m(\u001b[0m\u001b[0mmetadata\u001b[0m\u001b[0;34m[\u001b[0m\u001b[0;34m'label2id'\u001b[0m\u001b[0;34m]\u001b[0m\u001b[0;34m[\u001b[0m\u001b[0mnp\u001b[0m\u001b[0;34m.\u001b[0m\u001b[0margmax\u001b[0m\u001b[0;34m(\u001b[0m\u001b[0mfind_probability\u001b[0m\u001b[0;34m(\u001b[0m\u001b[0mnp\u001b[0m\u001b[0;34m.\u001b[0m\u001b[0mmatmul\u001b[0m\u001b[0;34m(\u001b[0m\u001b[0mW\u001b[0m\u001b[0;34m,\u001b[0m \u001b[0mim\u001b[0m\u001b[0;34m)\u001b[0m\u001b[0;34m)\u001b[0m\u001b[0;34m)\u001b[0m\u001b[0;34m]\u001b[0m\u001b[0;34m)\u001b[0m\u001b[0;34m\u001b[0m\u001b[0m\n\u001b[1;32m     14\u001b[0m             \u001b[0mtotal\u001b[0m \u001b[0;34m=\u001b[0m \u001b[0mtotal\u001b[0m \u001b[0;34m+\u001b[0m \u001b[0;36m1\u001b[0m\u001b[0;34m\u001b[0m\u001b[0m\n",
      "\u001b[0;31mValueError\u001b[0m: shapes (32,49152) and (196608,) not aligned: 49152 (dim 1) != 196608 (dim 0)"
     ]
    }
   ],
   "source": [
    "correct = 0\n",
    "total = 0\n",
    "\n",
    "with open(testFile, 'r') as f:\n",
    "    for x in f:\n",
    "        x = x.strip()\n",
    "        if x:\n",
    "            filePath = x.split()[0]\n",
    "            im = Image.open(filePath).resize((256, 256), Image.ANTIALIAS)\n",
    "            im = np.array(im).reshape(-1)\n",
    "#             im = im - mean\n",
    "            im = np.matmul(vec[:,0:32].T, im).T\n",
    "            print(metadata['label2id'][np.argmax(find_probability(np.matmul(W, im)))])\n",
    "            total = total + 1\n",
    "            if metadata['label2id'][np.argmax(find_probability(np.matmul(W, im)))] == filePath.split('/')[-1].split('_')[0]:\n",
    "                correct = correct + 1"
   ]
  },
  {
   "cell_type": "code",
   "execution_count": 58,
   "metadata": {},
   "outputs": [
    {
     "ename": "NameError",
     "evalue": "name 'projection' is not defined",
     "output_type": "error",
     "traceback": [
      "\u001b[0;31m---------------------------------------------------------------------------\u001b[0m",
      "\u001b[0;31mNameError\u001b[0m                                 Traceback (most recent call last)",
      "\u001b[0;32m<ipython-input-58-59736dff1658>\u001b[0m in \u001b[0;36m<module>\u001b[0;34m()\u001b[0m\n\u001b[1;32m      7\u001b[0m     \u001b[0mimg\u001b[0m \u001b[0;34m=\u001b[0m \u001b[0mread_image\u001b[0m\u001b[0;34m(\u001b[0m\u001b[0;34m'./dataset/'\u001b[0m \u001b[0;34m+\u001b[0m \u001b[0mfile\u001b[0m\u001b[0;34m)\u001b[0m\u001b[0;34m\u001b[0m\u001b[0m\n\u001b[1;32m      8\u001b[0m     \u001b[0mimg\u001b[0m \u001b[0;34m=\u001b[0m \u001b[0mimg\u001b[0m\u001b[0;34m.\u001b[0m\u001b[0mflatten\u001b[0m\u001b[0;34m(\u001b[0m\u001b[0;34m)\u001b[0m\u001b[0;34m\u001b[0m\u001b[0m\n\u001b[0;32m----> 9\u001b[0;31m     \u001b[0mpro_img\u001b[0m \u001b[0;34m=\u001b[0m \u001b[0mnp\u001b[0m\u001b[0;34m.\u001b[0m\u001b[0mmatmul\u001b[0m\u001b[0;34m(\u001b[0m\u001b[0mprojection\u001b[0m\u001b[0;34m,\u001b[0m \u001b[0mimg\u001b[0m\u001b[0;34m.\u001b[0m\u001b[0mT\u001b[0m\u001b[0;34m)\u001b[0m\u001b[0;34m\u001b[0m\u001b[0m\n\u001b[0m\u001b[1;32m     10\u001b[0m     \u001b[0mprint\u001b[0m\u001b[0;34m(\u001b[0m\u001b[0mmetadata\u001b[0m\u001b[0;34m[\u001b[0m\u001b[0;34m'label2id'\u001b[0m\u001b[0;34m]\u001b[0m\u001b[0;34m[\u001b[0m\u001b[0mnp\u001b[0m\u001b[0;34m.\u001b[0m\u001b[0margmax\u001b[0m\u001b[0;34m(\u001b[0m\u001b[0mfind_probability\u001b[0m\u001b[0;34m(\u001b[0m\u001b[0mnp\u001b[0m\u001b[0;34m.\u001b[0m\u001b[0mmatmul\u001b[0m\u001b[0;34m(\u001b[0m\u001b[0mW\u001b[0m\u001b[0;34m,\u001b[0m \u001b[0mim\u001b[0m\u001b[0;34m)\u001b[0m\u001b[0;34m)\u001b[0m\u001b[0;34m)\u001b[0m\u001b[0;34m]\u001b[0m\u001b[0;34m)\u001b[0m\u001b[0;34m\u001b[0m\u001b[0m\n",
      "\u001b[0;31mNameError\u001b[0m: name 'projection' is not defined"
     ]
    }
   ],
   "source": [
    "import os\n",
    "whole_data = os.listdir('./dataset')\n",
    "total = 0\n",
    "correct = 0\n",
    "\n",
    "for file in whole_data:\n",
    "    img = read_image('./dataset/' + file)\n",
    "    img = img.flatten()\n",
    "    pro_img = np.matmul(projection, img.T)\n",
    "    print(metadata['label2id'][np.argmax(find_probability(np.matmul(W, im)))])"
   ]
  },
  {
   "cell_type": "code",
   "execution_count": null,
   "metadata": {},
   "outputs": [],
   "source": []
  }
 ],
 "metadata": {
  "kernelspec": {
   "display_name": "Python 3",
   "language": "python",
   "name": "python3"
  },
  "language_info": {
   "codemirror_mode": {
    "name": "ipython",
    "version": 3
   },
   "file_extension": ".py",
   "mimetype": "text/x-python",
   "name": "python",
   "nbconvert_exporter": "python",
   "pygments_lexer": "ipython3",
   "version": "3.7.0"
  }
 },
 "nbformat": 4,
 "nbformat_minor": 2
}
