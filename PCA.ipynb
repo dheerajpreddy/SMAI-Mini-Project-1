{
 "cells": [
  {
   "cell_type": "code",
   "execution_count": 1,
   "metadata": {},
   "outputs": [],
   "source": [
    "import sys, os\n",
    "from PIL import Image\n",
    "import numpy as np\n",
    "import matplotlib.pyplot as plt"
   ]
  },
  {
   "cell_type": "code",
   "execution_count": 2,
   "metadata": {},
   "outputs": [],
   "source": [
    "def read_image(im) :\n",
    "    \n",
    "    # Opening image as greyscale\n",
    "    img = Image.open(im).convert('L')\n",
    "    img.load()\n",
    "    \n",
    "    # Converting image into a numpy array\n",
    "    data = np.asarray(img, dtype=\"int32\")\n",
    "\n",
    "    return data"
   ]
  },
  {
   "cell_type": "code",
   "execution_count": 3,
   "metadata": {},
   "outputs": [],
   "source": [
    "def PCA_decompose(img, num_comp):\n",
    "\n",
    "    # Find mean and center the image\n",
    "    centered = (img - np.mean(img.T, axis=1)).T\n",
    "    \n",
    "    # Find covariance matrix\n",
    "    cov = np.cov(centered)\n",
    "    \n",
    "    # Eigen decomposition, get eigenvalues and eigenvectors\n",
    "    [eig_val, eig_vec] = np.linalg.eig(cov)\n",
    "\n",
    "    # Getting top num_comp eigen vectors\n",
    "    if num_comp>=0 and num_comp<=256:\n",
    "        eig_vec = eig_vec[:,range(num_comp)]\n",
    "    \n",
    "#     # Finally, finding projection of the image\n",
    "#     projection = np.dot(eig_vec.T, centered)\n",
    "    \n",
    "    # Returning eigenvalues, eigenvectors, and projection\n",
    "    return eig_val, eig_vec"
   ]
  },
  {
   "cell_type": "code",
   "execution_count": 4,
   "metadata": {},
   "outputs": [],
   "source": [
    "def read_train_images():\n",
    "    images = []\n",
    "    with open(\"./sample_train.txt\") as f:\n",
    "            for line in f:\n",
    "                images.append(line.split()[0])\n",
    "    return images"
   ]
  },
  {
   "cell_type": "code",
   "execution_count": null,
   "metadata": {},
   "outputs": [],
   "source": [
    "def find_MSE():\n",
    "    \n",
    "    # Specifying directory where files are stored\n",
    "    train_dir = os.listdir('./dataset')\n",
    "#     train_dir = read_train_images()\n",
    "    # Initializing Squared Error list to zero matrices\n",
    "#     MSE = [ np.zeros((256, 256)) for x in range(0, 10)]\n",
    "    images = []\n",
    "    images = np.asarray(images)\n",
    "    MSE = np.zeros(60)\n",
    "    for x in train_dir:\n",
    "        img = read_image('./dataset/' + x)\n",
    "        img = img.flatten()\n",
    "        images = np.vstack([images, img])\n",
    "    \n",
    "    # going through each file\n",
    "    for x in train_dir:\n",
    "#         print(x)\n",
    "        A = read_image(x)\n",
    "        # Only taking first 60 eigenvalues and eigenvectors since rest are close to 0\n",
    "        for i in range(0, 60): \n",
    "            val, vec, pro = PCA_decompose(A, i)\n",
    "            Ar = np.dot(vec,pro).T + np.mean(A,axis=0)\n",
    "            MSE[i] = MSE[i] + np.mean(np.square(A - Ar))\n",
    "            print(i, np.mean(np.square(A-Ar)))\n",
    "    return MSE"
   ]
  },
  {
   "cell_type": "code",
   "execution_count": null,
   "metadata": {},
   "outputs": [],
   "source": [
    "MSE = find_MSE()"
   ]
  },
  {
   "cell_type": "code",
   "execution_count": null,
   "metadata": {},
   "outputs": [],
   "source": [
    "plt.plot(MSE)"
   ]
  },
  {
   "cell_type": "code",
   "execution_count": null,
   "metadata": {},
   "outputs": [],
   "source": []
  },
  {
   "cell_type": "code",
   "execution_count": 8,
   "metadata": {},
   "outputs": [
    {
     "data": {
      "text/plain": [
       "(520, 65536)"
      ]
     },
     "execution_count": 8,
     "metadata": {},
     "output_type": "execute_result"
    }
   ],
   "source": [
    "# Specifying directory where files are stored\n",
    "train_dir = os.listdir('./dataset')\n",
    "#     train_dir = read_train_images()\n",
    "# Initializing Squared Error list to zero matrices\n",
    "#     MSE = [ np.zeros((256, 256)) for x in range(0, 10)]\n",
    "images = None\n",
    "# images = np.asarray(images)\n",
    "MSE = np.zeros(60)\n",
    "for x in train_dir:\n",
    "    img = read_image('./dataset/' + x)\n",
    "    img = img.flatten()\n",
    "    if images is None:\n",
    "        images = img\n",
    "    else:\n",
    "        images = np.vstack([images, img])\n",
    "        \n",
    "images.shape"
   ]
  },
  {
   "cell_type": "code",
   "execution_count": 13,
   "metadata": {},
   "outputs": [],
   "source": [
    "M = np.mean(images.T, axis=1)\n",
    "# print(M)\n",
    "# center columns by subtracting column means\n",
    "C = images - M\n",
    "# print(C)\n",
    "# calculate covariance matrix of centered matrix\n",
    "V = np.matmul(C, C.T)\n",
    "# print(V)\n",
    "# eigendecomposition of covariance matrix\n",
    "values, vectors = np.linalg.eig(V)\n",
    "# print(vectors)\n",
    "# print(values)\n",
    "# project data\n",
    "P = vectors.dot(C)\n",
    "# print(P.T)"
   ]
  },
  {
   "cell_type": "code",
   "execution_count": 14,
   "metadata": {},
   "outputs": [
    {
     "data": {
      "text/plain": [
       "(520, 65536)"
      ]
     },
     "execution_count": 14,
     "metadata": {},
     "output_type": "execute_result"
    }
   ],
   "source": [
    "P.shape"
   ]
  },
  {
   "cell_type": "code",
   "execution_count": 15,
   "metadata": {},
   "outputs": [
    {
     "data": {
      "text/plain": [
       "(65536,)"
      ]
     },
     "execution_count": 15,
     "metadata": {},
     "output_type": "execute_result"
    }
   ],
   "source": [
    "P[1].shape\n"
   ]
  },
  {
   "cell_type": "code",
   "execution_count": null,
   "metadata": {},
   "outputs": [],
   "source": []
  }
 ],
 "metadata": {
  "kernelspec": {
   "display_name": "Python 3",
   "language": "python",
   "name": "python3"
  },
  "language_info": {
   "codemirror_mode": {
    "name": "ipython",
    "version": 3
   },
   "file_extension": ".py",
   "mimetype": "text/x-python",
   "name": "python",
   "nbconvert_exporter": "python",
   "pygments_lexer": "ipython3",
   "version": "3.7.0"
  }
 },
 "nbformat": 4,
 "nbformat_minor": 2
}
