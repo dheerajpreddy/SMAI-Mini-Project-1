{
 "cells": [
  {
   "cell_type": "code",
   "execution_count": 1,
   "metadata": {},
   "outputs": [],
   "source": [
    "import sys, os\n",
    "from PIL import Image\n",
    "import numpy as np\n",
    "import matplotlib.pyplot as plt"
   ]
  },
  {
   "cell_type": "code",
   "execution_count": 2,
   "metadata": {},
   "outputs": [],
   "source": [
    "def read_image(im) :\n",
    "\n",
    "    # Opening image as greyscale\n",
    "    img = Image.open(im).convert('L')\n",
    "    img.load()\n",
    "\n",
    "    # Converting image into a numpy array\n",
    "    data = np.asarray(img, dtype=\"int32\")\n",
    "\n",
    "    return data"
   ]
  },
  {
   "cell_type": "code",
   "execution_count": 3,
   "metadata": {},
   "outputs": [],
   "source": [
    "def PCA_decompose(images, num_comp):\n",
    "\n",
    "    # Find mean of the images\n",
    "    mean = np.mean(images.T, axis=1)\n",
    "    \n",
    "    # Center the matrix by subtracting the mean\n",
    "    centered = images - mean\n",
    "    \n",
    "    # Find covariance matrix\n",
    "    cov = np.matmul(centered, centered.T)\n",
    "\n",
    "    # Retrieving the eigenvalues and eigenvectors\n",
    "    values, vectors = np.linalg.eig(cov)\n",
    "    \n",
    "    # Reducing number of vectors based on num_comp\n",
    "    vectors = vectors[:,range(num_comp)]\n",
    "    \n",
    "    # Finding projection matrix\n",
    "    projection = np.dot(vectors.T, centered)\n",
    "\n",
    "    return values, vectors, projection\n"
   ]
  },
  {
   "cell_type": "code",
   "execution_count": 4,
   "metadata": {},
   "outputs": [],
   "source": [
    "# def find_MSE():\n",
    "\n",
    "# Specifying directory where files are stored\n",
    "train_dir = os.listdir('./dataset')\n",
    "\n",
    "# Sorting files in lexicographic order\n",
    "train_dir.sort()\n",
    "\n",
    "# Getting all images and then adding them to one single numpy array\n",
    "images = None\n",
    "MSE = np.zeros(60)\n",
    "for x in train_dir:\n",
    "    img = read_image('./dataset/' + x)\n",
    "    img = img.flatten()\n",
    "    if images is None:\n",
    "        images = img\n",
    "    else:\n",
    "        images = np.vstack([images, img])\n",
    "    \n",
    "#     return MSE"
   ]
  },
  {
   "cell_type": "code",
   "execution_count": 14,
   "metadata": {},
   "outputs": [],
   "source": [
    "# Initializing array of MSE to 0\n",
    "MSE = []\n",
    "for i in range(256):\n",
    "    val, vec, pro = PCA_decompose(images, i) \n",
    "    Ar = np.dot(vec,pro) + np.mean(images,axis=0)\n",
    "    MSE.append(np.mean(np.square(images - Ar)))"
   ]
  },
  {
   "cell_type": "code",
   "execution_count": 15,
   "metadata": {},
   "outputs": [
    {
     "data": {
      "text/plain": [
       "[<matplotlib.lines.Line2D at 0x10a913940>]"
      ]
     },
     "execution_count": 15,
     "metadata": {},
     "output_type": "execute_result"
    },
    {
     "data": {
      "image/png": "[encoded data removed]",
      "text/plain": [
       "<Figure size 432x288 with 1 Axes>"
      ]
     },
     "metadata": {},
     "output_type": "display_data"
    }
   ],
   "source": [
    "plt.plot(MSE)"
   ]
  },
  {
   "cell_type": "code",
   "execution_count": null,
   "metadata": {},
   "outputs": [],
   "source": []
  }
 ],
 "metadata": {
  "kernelspec": {
   "display_name": "Python 3",
   "language": "python",
   "name": "python3"
  },
  "language_info": {
   "codemirror_mode": {
    "name": "ipython",
    "version": 3
   },
   "file_extension": ".py",
   "mimetype": "text/x-python",
   "name": "python",
   "nbconvert_exporter": "python",
   "pygments_lexer": "ipython3",
   "version": "3.7.0"
  }
 },
 "nbformat": 4,
 "nbformat_minor": 2
}
