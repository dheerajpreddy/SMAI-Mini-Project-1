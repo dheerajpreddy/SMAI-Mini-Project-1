{
 "cells": [
  {
   "cell_type": "code",
   "execution_count": 2,
   "metadata": {},
   "outputs": [],
   "source": [
    "import os\n",
    "from PIL import Image\n",
    "import numpy as np"
   ]
  },
  {
   "cell_type": "code",
   "execution_count": 3,
   "metadata": {},
   "outputs": [],
   "source": [
    "def read_image(im) :\n",
    "\n",
    "    # Opening image as greyscale\n",
    "    img = Image.open(im).convert('L')\n",
    "    img.load()\n",
    "\n",
    "    # Converting image into a numpy array\n",
    "    data = np.asarray(img, dtype=\"int32\")\n",
    "\n",
    "    return data"
   ]
  },
  {
   "cell_type": "code",
   "execution_count": 4,
   "metadata": {},
   "outputs": [],
   "source": [
    "def PCA_decompose(images, num_comp):\n",
    "\n",
    "    # Find mean of the images\n",
    "    mean = np.mean(images.T, axis=1)\n",
    "    \n",
    "    # Center the matrix by subtracting the mean\n",
    "    centered = images - mean\n",
    "    \n",
    "    # Find covariance matrix\n",
    "    cov = np.matmul(centered, centered.T)\n",
    "\n",
    "    # Retrieving the eigenvalues and eigenvectors\n",
    "    values, vectors = np.linalg.eig(cov)\n",
    "    \n",
    "    # Reducing number of vectors based on num_comp\n",
    "    vectors = vectors[:,range(num_comp)]\n",
    "    \n",
    "    # Finding projection matrix\n",
    "    projection = np.dot(vectors.T, centered)\n",
    "\n",
    "    return values, vectors, projection"
   ]
  },
  {
   "cell_type": "code",
   "execution_count": 16,
   "metadata": {},
   "outputs": [],
   "source": [
    "def find_probability(x):\n",
    "    part1 = np.exp(x - np.max(x))\n",
    "    part2 = np.sum(exps, axis = 0)\n",
    "    return float(part1/part2)"
   ]
  },
  {
   "cell_type": "code",
   "execution_count": 5,
   "metadata": {},
   "outputs": [],
   "source": [
    "training_directory = []\n",
    "with open(\"./train_sample.txt\") as f:\n",
    "        for line in f:\n",
    "            training_directory.append(line.split())"
   ]
  },
  {
   "cell_type": "code",
   "execution_count": 6,
   "metadata": {},
   "outputs": [],
   "source": [
    "separated = {}\n",
    "for i in range(len(training_directory)):\n",
    "    vector = training_directory[i]\n",
    "    if (vector[-1] not in separated):\n",
    "        separated[vector[-1]] = []\n",
    "    separated[vector[-1]].append(vector[0])"
   ]
  },
  {
   "cell_type": "code",
   "execution_count": 7,
   "metadata": {},
   "outputs": [],
   "source": [
    "dataList = []\n",
    "for k, v in separated.items():\n",
    "    for x in v:\n",
    "        dataList.append(x)\n",
    "        \n",
    "data = None\n",
    "MSE = np.zeros(60)\n",
    "for x in dataList:\n",
    "    img = read_image(x)\n",
    "    img = img.flatten()\n",
    "    if data is None:\n",
    "        data = img\n",
    "    else:\n",
    "        data = np.vstack([data, img])"
   ]
  },
  {
   "cell_type": "code",
   "execution_count": 8,
   "metadata": {},
   "outputs": [],
   "source": [
    "values, vectors, projection = PCA_decompose(data, 32)"
   ]
  },
  {
   "cell_type": "code",
   "execution_count": 14,
   "metadata": {},
   "outputs": [],
   "source": [
    "# train\n",
    "\n",
    "X = projection.dot(data.T)\n",
    "W = np.ones((len(separated), 32))\n",
    "Y = np.array(images_labels)\n",
    "for i in range(0, 300):\n",
    "    labels = find_probability(np.matmul(W, X.T))\n",
    "    labels[Y[:], np.arange(len(images))] += -1.0\n",
    "    DSoftMax = (np.matmul(wtx_labels, A_new) / float(len(images))) + 0.0001 * W\n",
    "    W = W - eta*(DSoftMax)"
   ]
  },
  {
   "cell_type": "code",
   "execution_count": 15,
   "metadata": {},
   "outputs": [
    {
     "data": {
      "text/plain": [
       "(8, 32)"
      ]
     },
     "execution_count": 15,
     "metadata": {},
     "output_type": "execute_result"
    }
   ],
   "source": []
  },
  {
   "cell_type": "code",
   "execution_count": null,
   "metadata": {},
   "outputs": [],
   "source": []
  }
 ],
 "metadata": {
  "kernelspec": {
   "display_name": "Python 3",
   "language": "python",
   "name": "python3"
  },
  "language_info": {
   "codemirror_mode": {
    "name": "ipython",
    "version": 3
   },
   "file_extension": ".py",
   "mimetype": "text/x-python",
   "name": "python",
   "nbconvert_exporter": "python",
   "pygments_lexer": "ipython3",
   "version": "3.7.0"
  }
 },
 "nbformat": 4,
 "nbformat_minor": 2
}
