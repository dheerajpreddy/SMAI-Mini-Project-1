{
 "cells": [
  {
   "cell_type": "code",
   "execution_count": 1,
   "metadata": {},
   "outputs": [],
   "source": [
    "import os\n",
    "from PIL import Image\n",
    "import numpy as np"
   ]
  },
  {
   "cell_type": "code",
   "execution_count": 2,
   "metadata": {},
   "outputs": [],
   "source": [
    "def read_image(im) :\n",
    "\n",
    "    # Opening image as greyscale\n",
    "    img = Image.open(im).convert('L')\n",
    "    img.load()\n",
    "\n",
    "    # Converting image into a numpy array\n",
    "    data = np.asarray(img, dtype=\"int32\")\n",
    "\n",
    "    return data"
   ]
  },
  {
   "cell_type": "code",
   "execution_count": 3,
   "metadata": {},
   "outputs": [],
   "source": [
    "trainFile = 'train_sample2.txt'\n",
    "testFile = 'train_sample.txt'"
   ]
  },
  {
   "cell_type": "code",
   "execution_count": 11,
   "metadata": {},
   "outputs": [],
   "source": [
    "metadata = {}\n",
    "metadata['class2id'] = {}\n",
    "metadata['im2label'] = []\n",
    "metadata['img_dir'] = [] \n",
    "metadata['label2id'] = {}\n",
    "ids = 0\n",
    "\n",
    "with open(trainFile, 'r') as f:\n",
    "    for line in f:\n",
    "        filePath, label = x.split(' ')\n",
    "        if label not in metadata['class2id']:\n",
    "            metadata['class2id'][label] = ids\n",
    "            metadata['label2id'] = label\n",
    "            ids = ids + 1\n",
    "        metadata['im2label'].append(metadata['class2id'][label])\n",
    "        metadata['img_dir'].append(filePath)"
   ]
  },
  {
   "cell_type": "code",
   "execution_count": 20,
   "metadata": {},
   "outputs": [],
   "source": [
    "def PCA_decompose(images, num_comp):\n",
    "    \n",
    "    data = None\n",
    "    MSE = np.zeros(60)\n",
    "    for x in images:\n",
    "        img = read_image(x)\n",
    "        img = img.flatten()\n",
    "        if data is None:\n",
    "            data = img\n",
    "        else:\n",
    "            data = np.vstack([data, img])\n",
    "\n",
    "    # Find mean of the images\n",
    "    mean = np.mean(data.T, axis=1)\n",
    "    \n",
    "    # Center the matrix by subtracting the mean\n",
    "    centered = data - mean\n",
    "    \n",
    "    # Find covariance matrix\n",
    "    cov = np.matmul(centered, centered.T)\n",
    "\n",
    "    # Retrieving the eigenvalues and eigenvectors\n",
    "    values, vectors = np.linalg.eig(cov)\n",
    "    \n",
    "    # Finding projection matrix\n",
    "    projection = np.dot(vectors.T, centered)\n",
    "    \n",
    "    eVecs = np.matmul(centered.T, vectors)\n",
    "    eVecsNorm = np.sqrt(np.sum(eVecs*eVecs, axis=0))\n",
    "    actualEVecs = np.real(eVecs/eVecsNorm)\n",
    "\n",
    "    return actualEVecs, centered, mean"
   ]
  },
  {
   "cell_type": "code",
   "execution_count": 21,
   "metadata": {},
   "outputs": [],
   "source": [
    "def find_probability(x):\n",
    "    shiftx = x - np.max(x)\n",
    "    exps = np.exp(shiftx)\n",
    "    return exps / np.sum(exps, axis = 0)"
   ]
  },
  {
   "cell_type": "code",
   "execution_count": 22,
   "metadata": {},
   "outputs": [
    {
     "name": "stderr",
     "output_type": "stream",
     "text": [
      "/usr/local/lib/python3.7/site-packages/ipykernel_launcher.py:30: RuntimeWarning: invalid value encountered in true_divide\n"
     ]
    }
   ],
   "source": [
    "eVecs, A, toAdd = PCA_decompose(metadata['img_dir'], 32)\n",
    "curEVecs = eVecs[:,0:32]\n",
    "A_new = np.matmul(curEVecs.T, A.T).T"
   ]
  },
  {
   "cell_type": "code",
   "execution_count": null,
   "metadata": {},
   "outputs": [],
   "source": []
  }
 ],
 "metadata": {
  "kernelspec": {
   "display_name": "Python 3",
   "language": "python",
   "name": "python3"
  },
  "language_info": {
   "codemirror_mode": {
    "name": "ipython",
    "version": 3
   },
   "file_extension": ".py",
   "mimetype": "text/x-python",
   "name": "python",
   "nbconvert_exporter": "python",
   "pygments_lexer": "ipython3",
   "version": "3.7.0"
  }
 },
 "nbformat": 4,
 "nbformat_minor": 2
}
