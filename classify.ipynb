{
 "cells": [
  {
   "cell_type": "code",
   "execution_count": 115,
   "metadata": {},
   "outputs": [],
   "source": [
    "import sys, os\n",
    "from PIL import Image\n",
    "import numpy as np"
   ]
  },
  {
   "cell_type": "code",
   "execution_count": 126,
   "metadata": {},
   "outputs": [],
   "source": [
    "def read_image(im) :\n",
    "    \n",
    "    # Opening image as greyscale\n",
    "    img = Image.open(im).convert('L')\n",
    "    img.load()\n",
    "    \n",
    "    # Converting image into a numpy array\n",
    "    data = np.asarray(img, dtype=\"int32\")\n",
    "\n",
    "    return data"
   ]
  },
  {
   "cell_type": "code",
   "execution_count": 134,
   "metadata": {},
   "outputs": [],
   "source": [
    "def PCA_decompose(img, num_comp):\n",
    "\n",
    "    # Find mean and center the image\n",
    "    centered = (img - np.mean(A.T, axis=1)).T\n",
    "    \n",
    "    # Find covariance matrix\n",
    "    cov = np.cov(centered)\n",
    "    \n",
    "    # Eigen decomposition, get eigenvalues and eigenvectors\n",
    "    [eig_val, eig_vec] = np.linalg.eig(cov)\n",
    "\n",
    "    # Getting top num_comp eigen vectors\n",
    "    if num_comp>=0 and num_comp<=256:\n",
    "        eig_vec = eig_vec[:,range(num_comp)]\n",
    "    \n",
    "    # Finally, finding projection of the image\n",
    "    projection = np.dot(eig_vec.T,M)\n",
    "    \n",
    "    # Returning eigenvalues, eigenvectors, and projection\n",
    "    return eig_val, eig_vec, projection"
   ]
  },
  {
   "cell_type": "code",
   "execution_count": 139,
   "metadata": {},
   "outputs": [],
   "source": [
    "A = read_image('./dataset/000_000.jpg')\n",
    "val, vec, pro = PCA_decompose(A, 40)"
   ]
  },
  {
   "cell_type": "code",
   "execution_count": 140,
   "metadata": {},
   "outputs": [],
   "source": [
    "Ar = np.dot(vec,pro).T+np.mean(A,axis=0)"
   ]
  },
  {
   "cell_type": "code",
   "execution_count": 141,
   "metadata": {},
   "outputs": [],
   "source": [
    "img = Image.fromarray(Ar)\n",
    "img.show()"
   ]
  },
  {
   "cell_type": "code",
   "execution_count": null,
   "metadata": {},
   "outputs": [],
   "source": []
  }
 ],
 "metadata": {
  "kernelspec": {
   "display_name": "Python 3",
   "language": "python",
   "name": "python3"
  },
  "language_info": {
   "codemirror_mode": {
    "name": "ipython",
    "version": 3
   },
   "file_extension": ".py",
   "mimetype": "text/x-python",
   "name": "python",
   "nbconvert_exporter": "python",
   "pygments_lexer": "ipython3",
   "version": "3.7.0"
  }
 },
 "nbformat": 4,
 "nbformat_minor": 2
}
