{
 "cells": [
  {
   "cell_type": "markdown",
   "metadata": {},
   "source": [
    "# Question 2"
   ]
  },
  {
   "cell_type": "markdown",
   "metadata": {},
   "source": [
    "## Importing packages"
   ]
  },
  {
   "cell_type": "code",
   "execution_count": 1,
   "metadata": {},
   "outputs": [],
   "source": [
    "import os\n",
    "from PIL import Image\n",
    "import numpy as np\n",
    "import warnings\n",
    "warnings.filterwarnings(\"ignore\")"
   ]
  },
  {
   "cell_type": "markdown",
   "metadata": {},
   "source": [
    "## Read Image"
   ]
  },
  {
   "cell_type": "code",
   "execution_count": 2,
   "metadata": {},
   "outputs": [],
   "source": [
    "def read_image(im) :\n",
    "    \n",
    "    # Opening image as greyscale\n",
    "    img = Image.open(im).convert('L')\n",
    "    img.load()\n",
    "    \n",
    "    # Converting image into a numpy array\n",
    "    data = np.asarray(img, dtype=\"int32\")\n",
    "\n",
    "    return data"
   ]
  },
  {
   "cell_type": "markdown",
   "metadata": {},
   "source": [
    "## PCA Decompose"
   ]
  },
  {
   "cell_type": "code",
   "execution_count": 3,
   "metadata": {},
   "outputs": [],
   "source": [
    "def PCA_decompose(images, num_comp):\n",
    "\n",
    "    # Find mean of the images\n",
    "    mean = np.mean(images.T, axis=1)\n",
    "    \n",
    "    # Center the matrix by subtracting the mean\n",
    "    centered = images - mean\n",
    "    \n",
    "    # Find covariance matrix\n",
    "    cov = np.matmul(centered, centered.T)\n",
    "\n",
    "    # Retrieving the eigenvalues and eigenvectors\n",
    "    values, vectors = np.linalg.eig(cov)\n",
    "    idx = np.argsort(values) # sorting the eigenvalues\n",
    "    idx = idx[::-1]       # in ascending order\n",
    "    # sorting eigenvectors according to the sorted eigenvalues\n",
    "    vectors = vectors[:,idx]\n",
    "    values = values[idx] \n",
    "    # Reducing number of vectors based on num_comp\n",
    "    vectors = vectors[:,range(num_comp)]\n",
    "    \n",
    "    # Finding projection matrix\n",
    "    projection = np.dot(vectors.T, centered)\n",
    "\n",
    "    return values, vectors, projection"
   ]
  },
  {
   "cell_type": "markdown",
   "metadata": {},
   "source": [
    "## Calculate multivariate probability"
   ]
  },
  {
   "cell_type": "code",
   "execution_count": 4,
   "metadata": {},
   "outputs": [],
   "source": [
    "def calc_probability(x, mu, cov):\n",
    "#     part1 = 1 / ( ((2* np.pi)**(len(mu)/2)) * (np.linalg.det(cov)**(1/2)) )\n",
    "    part1 = 1 / ( ((2* np.pi)**(len(mu)/2)) * 1)\n",
    "    part2 = (-1/2) * ((x-mu).T.dot(np.linalg.inv(cov))).dot((x-mu))\n",
    "    return float(part1 * np.exp(part2))"
   ]
  },
  {
   "cell_type": "markdown",
   "metadata": {},
   "source": [
    "## Read Training Directory"
   ]
  },
  {
   "cell_type": "code",
   "execution_count": 5,
   "metadata": {},
   "outputs": [],
   "source": [
    "# Read train file\n",
    "def read_train_file():\n",
    "    training_directory = []\n",
    "    with open(\"./train.txt\") as f:\n",
    "            for line in f:\n",
    "                training_directory.append(line.split())\n",
    "#     while len(training_directory) < 32:\n",
    "#         training_directory.append(random.choice(training_directory))\n",
    "    return training_directory"
   ]
  },
  {
   "cell_type": "markdown",
   "metadata": {},
   "source": [
    "## Combine Images into one vector"
   ]
  },
  {
   "cell_type": "code",
   "execution_count": 6,
   "metadata": {},
   "outputs": [],
   "source": [
    "def combineImages(images):\n",
    "    # Getting all images and then adding them to one single numpy array\n",
    "    data = None\n",
    "    MSE = np.zeros(60)\n",
    "    for x in images:\n",
    "        img = read_image(x)\n",
    "        img = img.flatten()\n",
    "        if data is None:\n",
    "            data = img\n",
    "        else:\n",
    "            data = np.vstack([data, img])\n",
    "    i = 0\n",
    "#     while data.shape[0] < 32:\n",
    "#         data = np.vstack([data, data[np.random.choice(data.shape[0], 1, replace=False), :]])\n",
    "    return data"
   ]
  },
  {
   "cell_type": "markdown",
   "metadata": {},
   "source": [
    "## Separate Images by class"
   ]
  },
  {
   "cell_type": "code",
   "execution_count": 7,
   "metadata": {},
   "outputs": [],
   "source": [
    "def separateClasses(images):\n",
    "    # Separate labels\n",
    "    separated = {}\n",
    "    for i in range(len(images)):\n",
    "        vector = images[i]\n",
    "        if (vector[-1] not in separated):\n",
    "            separated[vector[-1]] = []\n",
    "        separated[vector[-1]].append(vector[0])\n",
    "    return separated"
   ]
  },
  {
   "cell_type": "markdown",
   "metadata": {},
   "source": [
    "## Find Mean"
   ]
  },
  {
   "cell_type": "code",
   "execution_count": 8,
   "metadata": {},
   "outputs": [],
   "source": [
    "def mean(images):\n",
    "    mean = np.mean(images.T, axis=1)\n",
    "    return mean"
   ]
  },
  {
   "cell_type": "markdown",
   "metadata": {},
   "source": [
    "## Find Covariance"
   ]
  },
  {
   "cell_type": "code",
   "execution_count": 9,
   "metadata": {},
   "outputs": [],
   "source": [
    "def covariance(images):\n",
    "    # Find mean of the images\n",
    "    mean = np.mean(images.T, axis=1)\n",
    "    \n",
    "    # Center the matrix by subtracting the mean\n",
    "    centered = images - mean\n",
    "    \n",
    "    # Find covariance matrix\n",
    "    cov = np.cov(centered)\n",
    "    \n",
    "    return cov"
   ]
  },
  {
   "cell_type": "code",
   "execution_count": 10,
   "metadata": {},
   "outputs": [],
   "source": [
    "# main function\n",
    "training_directory = read_train_file()\n",
    "separated = separateClasses(training_directory)\n",
    "dataList = []\n",
    "for k, v in separated.items():\n",
    "    for x in v:\n",
    "        dataList.append(x)\n",
    "data = combineImages(dataList)\n",
    "if len(separated) < 32:\n",
    "    numComp = len(separated)\n",
    "else:\n",
    "    numComp = 32\n",
    "values, vectors, projection = PCA_decompose(data, numComp)\n",
    "\n",
    "classes_char = [ [0, 0] for i in range(len(separated))]"
   ]
  },
  {
   "cell_type": "code",
   "execution_count": 11,
   "metadata": {},
   "outputs": [],
   "source": [
    "classes_matrices = {}\n",
    "for k, v in separated.items():\n",
    "#     classes_matrices.append(None)\n",
    "    for x in v:\n",
    "        img = read_image(x)\n",
    "        img = img.flatten()\n",
    "        if k not in classes_matrices:\n",
    "            classes_matrices[k] = projection.dot(img.T)\n",
    "        else:\n",
    "            classes_matrices[k] = np.vstack([classes_matrices[k], projection.dot(img.T)])\n"
   ]
  },
  {
   "cell_type": "code",
   "execution_count": 12,
   "metadata": {
    "scrolled": true
   },
   "outputs": [],
   "source": [
    "classes_char = {}\n",
    "for k, v in classes_matrices.items():\n",
    "    # find mean\n",
    "    t = dict()\n",
    "    t['mu'] = mean(v)\n",
    "    centered = v - t['mu']\n",
    "    # find covariance\n",
    "    t['sigma'] = np.cov(centered.T)\n",
    "    classes_char[k] = t\n",
    "# classes_char"
   ]
  },
  {
   "cell_type": "code",
   "execution_count": 13,
   "metadata": {
    "scrolled": true
   },
   "outputs": [
    {
     "name": "stdout",
     "output_type": "stream",
     "text": [
      "alice\n",
      "alice\n",
      "bob\n",
      "alice\n",
      "alice\n"
     ]
    }
   ],
   "source": [
    "total = 0\n",
    "correct = 0\n",
    "with open('test.txt', 'r') as myfile:\n",
    "    data=myfile.read().split('\\n')\n",
    "\n",
    "for file in data:\n",
    "#     line = line.split('\\n')\n",
    "#     file = entire_line[0]\n",
    "#     #                 label = entire_line[1]\n",
    "    if file == \"\":\n",
    "        break\n",
    "#     file = file.split()[0]\n",
    "    img = read_image(file)\n",
    "    img = img.flatten()\n",
    "    pro_img = np.matmul(projection, img.T)\n",
    "    maxp = -9999999\n",
    "    maxc = \"\"\n",
    "    sump = 0\n",
    "    for k, v in classes_char.items():\n",
    "        v['prob'] = calc_probability(pro_img, v['mu'], v['sigma'])\n",
    "        if v['prob']>maxp:\n",
    "            maxp = v['prob']\n",
    "            maxc = k\n",
    "    print(maxc)\n",
    "#                 if maxc == label:\n",
    "#                     correct = correct + 1\n",
    "#                 total = total + 1\n",
    "# (correct/total)*100"
   ]
  },
  {
   "cell_type": "code",
   "execution_count": null,
   "metadata": {},
   "outputs": [],
   "source": []
  }
 ],
 "metadata": {
  "kernelspec": {
   "display_name": "Python 3",
   "language": "python",
   "name": "python3"
  },
  "language_info": {
   "codemirror_mode": {
    "name": "ipython",
    "version": 3
   },
   "file_extension": ".py",
   "mimetype": "text/x-python",
   "name": "python",
   "nbconvert_exporter": "python",
   "pygments_lexer": "ipython3",
   "version": "3.7.0"
  }
 },
 "nbformat": 4,
 "nbformat_minor": 2
}
