{
 "cells": [
  {
   "cell_type": "code",
   "execution_count": 1,
   "metadata": {},
   "outputs": [],
   "source": [
    "import os\n",
    "from PIL import Image\n",
    "import numpy as np"
   ]
  },
  {
   "cell_type": "code",
   "execution_count": 2,
   "metadata": {},
   "outputs": [],
   "source": [
    "def read_image(im) :\n",
    "    \n",
    "    # Opening image as greyscale\n",
    "    img = Image.open(im).convert('L')\n",
    "    img.load()\n",
    "    \n",
    "    # Converting image into a numpy array\n",
    "    data = np.asarray(img, dtype=\"int32\")\n",
    "\n",
    "    return data"
   ]
  },
  {
   "cell_type": "code",
   "execution_count": 3,
   "metadata": {},
   "outputs": [],
   "source": [
    "def PCA_decompose(img, num_comp):\n",
    "\n",
    "    # Find mean and center the image\n",
    "    centered = (img - np.mean(img.T, axis=1)).T\n",
    "    \n",
    "    # Find covariance matrix\n",
    "    cov = np.cov(centered)\n",
    "    \n",
    "    # Eigen decomposition, get eigenvalues and eigenvectors\n",
    "    [eig_val, eig_vec] = np.linalg.eig(cov)\n",
    "\n",
    "    # Getting top num_comp eigen vectors\n",
    "    if num_comp>=0 and num_comp<=256:\n",
    "        eig_vec = eig_vec[:,range(num_comp)]\n",
    "    \n",
    "    # Finally, finding projection of the image\n",
    "    projection = np.dot(eig_vec.T, centered)\n",
    "    \n",
    "    # Returning eigenvalues, eigenvectors, and projection\n",
    "    return eig_val, eig_vec, projection"
   ]
  },
  {
   "cell_type": "code",
   "execution_count": null,
   "metadata": {},
   "outputs": [],
   "source": [
    "def multivariate_normal_pdf(x, mu, cov):\n",
    "   "
   ]
  },
  {
   "cell_type": "code",
   "execution_count": null,
   "metadata": {},
   "outputs": [],
   "source": [
    "# Read train file\n",
    "images = []\n",
    "with open(\"./sample_train.txt\") as f:\n",
    "        for line in f:\n",
    "            images.append(line.split())"
   ]
  },
  {
   "cell_type": "code",
   "execution_count": null,
   "metadata": {},
   "outputs": [],
   "source": [
    "def separateByClass(dataset):\n",
    "    separated = {}\n",
    "    for i in range(len(dataset)):\n",
    "        vector = dataset[i]\n",
    "        if (vector[-1] not in separated):\n",
    "            separated[vector[-1]] = []\n",
    "        separated[vector[-1]].append(vector)\n",
    "    return separated"
   ]
  },
  {
   "cell_type": "code",
   "execution_count": null,
   "metadata": {},
   "outputs": [],
   "source": [
    "Ar = np.dot(vec,pro).T + np.mean(A,axis=0)\n",
    "im = Image.fromarray(Ar)\n",
    "im.show()"
   ]
  }
 ],
 "metadata": {
  "kernelspec": {
   "display_name": "Python 3",
   "language": "python",
   "name": "python3"
  },
  "language_info": {
   "codemirror_mode": {
    "name": "ipython",
    "version": 3
   },
   "file_extension": ".py",
   "mimetype": "text/x-python",
   "name": "python",
   "nbconvert_exporter": "python",
   "pygments_lexer": "ipython3",
   "version": "3.7.0"
  }
 },
 "nbformat": 4,
 "nbformat_minor": 2
}
